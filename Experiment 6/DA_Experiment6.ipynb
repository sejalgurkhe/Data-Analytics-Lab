{
  "nbformat": 4,
  "nbformat_minor": 0,
  "metadata": {
    "colab": {
      "name": "DA_Experiment6.ipynb",
      "provenance": []
    },
    "kernelspec": {
      "name": "python3",
      "display_name": "Python 3"
    },
    "language_info": {
      "name": "python"
    }
  },
  "cells": [
    {
      "cell_type": "markdown",
      "source": [
        "# **Exp 6**\n",
        "\n",
        "# Aim: Understanding Support Vector Machine algorithm through building SVM algorithm in Python.\n"
      ],
      "metadata": {
        "id": "8pYKLg-3Zi77"
      }
    },
    {
      "cell_type": "code",
      "source": [
        "# Importing the libraries\n",
        "import pandas as pd\n",
        "import numpy as np\n",
        "import matplotlib.pyplot as plt\n",
        "import plotly.express as px"
      ],
      "metadata": {
        "id": "605EaSKTUVHD"
      },
      "execution_count": 1,
      "outputs": []
    },
    {
      "cell_type": "code",
      "execution_count": 2,
      "metadata": {
        "id": "j-aHW5zSDFJD",
        "colab": {
          "base_uri": "https://localhost:8080/"
        },
        "outputId": "09b1789e-ee3c-4d6a-cc58-eb118cd810e7"
      },
      "outputs": [
        {
          "output_type": "stream",
          "name": "stdout",
          "text": [
            "Mounted at /content/drive\n"
          ]
        }
      ],
      "source": [
        "from google.colab import drive\n",
        "drive.mount('/content/drive')"
      ]
    },
    {
      "cell_type": "code",
      "source": [
        "# Importing the dataset\n",
        "df = pd.read_csv(\"/content/drive/MyDrive/DA_datasets/Exp6/Social_Network_Ads.csv\")\n",
        "df"
      ],
      "metadata": {
        "id": "gNfhk2Z8DMep"
      },
      "execution_count": 4,
      "outputs": []
    },
    {
      "cell_type": "code",
      "source": [
        "df.head()"
      ],
      "metadata": {
        "id": "bdsqrAk9QyyU",
        "colab": {
          "base_uri": "https://localhost:8080/",
          "height": 206
        },
        "outputId": "06c9b72e-e558-49cb-c2f9-f16b32f7f518"
      },
      "execution_count": 5,
      "outputs": [
        {
          "output_type": "execute_result",
          "data": {
            "text/plain": [
              "    User ID  Gender  Age  EstimatedSalary  Purchased\n",
              "0  15624510    Male   19            19000          0\n",
              "1  15810944    Male   35            20000          0\n",
              "2  15668575  Female   26            43000          0\n",
              "3  15603246  Female   27            57000          0\n",
              "4  15804002    Male   19            76000          0"
            ],
            "text/html": [
              "\n",
              "  <div id=\"df-ab336c23-67bb-437b-921c-c3cf8f3124db\">\n",
              "    <div class=\"colab-df-container\">\n",
              "      <div>\n",
              "<style scoped>\n",
              "    .dataframe tbody tr th:only-of-type {\n",
              "        vertical-align: middle;\n",
              "    }\n",
              "\n",
              "    .dataframe tbody tr th {\n",
              "        vertical-align: top;\n",
              "    }\n",
              "\n",
              "    .dataframe thead th {\n",
              "        text-align: right;\n",
              "    }\n",
              "</style>\n",
              "<table border=\"1\" class=\"dataframe\">\n",
              "  <thead>\n",
              "    <tr style=\"text-align: right;\">\n",
              "      <th></th>\n",
              "      <th>User ID</th>\n",
              "      <th>Gender</th>\n",
              "      <th>Age</th>\n",
              "      <th>EstimatedSalary</th>\n",
              "      <th>Purchased</th>\n",
              "    </tr>\n",
              "  </thead>\n",
              "  <tbody>\n",
              "    <tr>\n",
              "      <th>0</th>\n",
              "      <td>15624510</td>\n",
              "      <td>Male</td>\n",
              "      <td>19</td>\n",
              "      <td>19000</td>\n",
              "      <td>0</td>\n",
              "    </tr>\n",
              "    <tr>\n",
              "      <th>1</th>\n",
              "      <td>15810944</td>\n",
              "      <td>Male</td>\n",
              "      <td>35</td>\n",
              "      <td>20000</td>\n",
              "      <td>0</td>\n",
              "    </tr>\n",
              "    <tr>\n",
              "      <th>2</th>\n",
              "      <td>15668575</td>\n",
              "      <td>Female</td>\n",
              "      <td>26</td>\n",
              "      <td>43000</td>\n",
              "      <td>0</td>\n",
              "    </tr>\n",
              "    <tr>\n",
              "      <th>3</th>\n",
              "      <td>15603246</td>\n",
              "      <td>Female</td>\n",
              "      <td>27</td>\n",
              "      <td>57000</td>\n",
              "      <td>0</td>\n",
              "    </tr>\n",
              "    <tr>\n",
              "      <th>4</th>\n",
              "      <td>15804002</td>\n",
              "      <td>Male</td>\n",
              "      <td>19</td>\n",
              "      <td>76000</td>\n",
              "      <td>0</td>\n",
              "    </tr>\n",
              "  </tbody>\n",
              "</table>\n",
              "</div>\n",
              "      <button class=\"colab-df-convert\" onclick=\"convertToInteractive('df-ab336c23-67bb-437b-921c-c3cf8f3124db')\"\n",
              "              title=\"Convert this dataframe to an interactive table.\"\n",
              "              style=\"display:none;\">\n",
              "        \n",
              "  <svg xmlns=\"http://www.w3.org/2000/svg\" height=\"24px\"viewBox=\"0 0 24 24\"\n",
              "       width=\"24px\">\n",
              "    <path d=\"M0 0h24v24H0V0z\" fill=\"none\"/>\n",
              "    <path d=\"M18.56 5.44l.94 2.06.94-2.06 2.06-.94-2.06-.94-.94-2.06-.94 2.06-2.06.94zm-11 1L8.5 8.5l.94-2.06 2.06-.94-2.06-.94L8.5 2.5l-.94 2.06-2.06.94zm10 10l.94 2.06.94-2.06 2.06-.94-2.06-.94-.94-2.06-.94 2.06-2.06.94z\"/><path d=\"M17.41 7.96l-1.37-1.37c-.4-.4-.92-.59-1.43-.59-.52 0-1.04.2-1.43.59L10.3 9.45l-7.72 7.72c-.78.78-.78 2.05 0 2.83L4 21.41c.39.39.9.59 1.41.59.51 0 1.02-.2 1.41-.59l7.78-7.78 2.81-2.81c.8-.78.8-2.07 0-2.86zM5.41 20L4 18.59l7.72-7.72 1.47 1.35L5.41 20z\"/>\n",
              "  </svg>\n",
              "      </button>\n",
              "      \n",
              "  <style>\n",
              "    .colab-df-container {\n",
              "      display:flex;\n",
              "      flex-wrap:wrap;\n",
              "      gap: 12px;\n",
              "    }\n",
              "\n",
              "    .colab-df-convert {\n",
              "      background-color: #E8F0FE;\n",
              "      border: none;\n",
              "      border-radius: 50%;\n",
              "      cursor: pointer;\n",
              "      display: none;\n",
              "      fill: #1967D2;\n",
              "      height: 32px;\n",
              "      padding: 0 0 0 0;\n",
              "      width: 32px;\n",
              "    }\n",
              "\n",
              "    .colab-df-convert:hover {\n",
              "      background-color: #E2EBFA;\n",
              "      box-shadow: 0px 1px 2px rgba(60, 64, 67, 0.3), 0px 1px 3px 1px rgba(60, 64, 67, 0.15);\n",
              "      fill: #174EA6;\n",
              "    }\n",
              "\n",
              "    [theme=dark] .colab-df-convert {\n",
              "      background-color: #3B4455;\n",
              "      fill: #D2E3FC;\n",
              "    }\n",
              "\n",
              "    [theme=dark] .colab-df-convert:hover {\n",
              "      background-color: #434B5C;\n",
              "      box-shadow: 0px 1px 3px 1px rgba(0, 0, 0, 0.15);\n",
              "      filter: drop-shadow(0px 1px 2px rgba(0, 0, 0, 0.3));\n",
              "      fill: #FFFFFF;\n",
              "    }\n",
              "  </style>\n",
              "\n",
              "      <script>\n",
              "        const buttonEl =\n",
              "          document.querySelector('#df-ab336c23-67bb-437b-921c-c3cf8f3124db button.colab-df-convert');\n",
              "        buttonEl.style.display =\n",
              "          google.colab.kernel.accessAllowed ? 'block' : 'none';\n",
              "\n",
              "        async function convertToInteractive(key) {\n",
              "          const element = document.querySelector('#df-ab336c23-67bb-437b-921c-c3cf8f3124db');\n",
              "          const dataTable =\n",
              "            await google.colab.kernel.invokeFunction('convertToInteractive',\n",
              "                                                     [key], {});\n",
              "          if (!dataTable) return;\n",
              "\n",
              "          const docLinkHtml = 'Like what you see? Visit the ' +\n",
              "            '<a target=\"_blank\" href=https://colab.research.google.com/notebooks/data_table.ipynb>data table notebook</a>'\n",
              "            + ' to learn more about interactive tables.';\n",
              "          element.innerHTML = '';\n",
              "          dataTable['output_type'] = 'display_data';\n",
              "          await google.colab.output.renderOutput(dataTable, element);\n",
              "          const docLink = document.createElement('div');\n",
              "          docLink.innerHTML = docLinkHtml;\n",
              "          element.appendChild(docLink);\n",
              "        }\n",
              "      </script>\n",
              "    </div>\n",
              "  </div>\n",
              "  "
            ]
          },
          "metadata": {},
          "execution_count": 5
        }
      ]
    },
    {
      "cell_type": "code",
      "source": [
        "df.info()"
      ],
      "metadata": {
        "id": "1OJJ01SxDMTM",
        "colab": {
          "base_uri": "https://localhost:8080/"
        },
        "outputId": "f8e7f112-3c5c-4d0c-fee4-05891b51c10b"
      },
      "execution_count": 6,
      "outputs": [
        {
          "output_type": "stream",
          "name": "stdout",
          "text": [
            "<class 'pandas.core.frame.DataFrame'>\n",
            "RangeIndex: 400 entries, 0 to 399\n",
            "Data columns (total 5 columns):\n",
            " #   Column           Non-Null Count  Dtype \n",
            "---  ------           --------------  ----- \n",
            " 0   User ID          400 non-null    int64 \n",
            " 1   Gender           400 non-null    object\n",
            " 2   Age              400 non-null    int64 \n",
            " 3   EstimatedSalary  400 non-null    int64 \n",
            " 4   Purchased        400 non-null    int64 \n",
            "dtypes: int64(4), object(1)\n",
            "memory usage: 15.8+ KB\n"
          ]
        }
      ]
    },
    {
      "cell_type": "code",
      "source": [
        "X = df.iloc[:, [2,3]].values\n",
        "Y = df.iloc[:, 4].values"
      ],
      "metadata": {
        "id": "8c_BroPNK2LQ"
      },
      "execution_count": 7,
      "outputs": []
    },
    {
      "cell_type": "code",
      "source": [
        "# Splitting the dataset into the Training set and Test set\n",
        "from sklearn.model_selection import train_test_split\n",
        "X_train, X_test, y_train, y_test = train_test_split(X, Y, test_size = 0.25, random_state = 0)"
      ],
      "metadata": {
        "id": "uCVBUjTOPVDL"
      },
      "execution_count": 8,
      "outputs": []
    },
    {
      "cell_type": "code",
      "source": [
        "from sklearn import svm\n",
        "clf_svm = svm.SVC(kernel='poly')\n",
        "clf_svm.fit(X_train, y_train)\n",
        "y_pred = clf_svm.predict(X_test)\n",
        "clf_svm.score(X_test, y_test) * 100"
      ],
      "metadata": {
        "id": "0-jWALYOPfNH",
        "colab": {
          "base_uri": "https://localhost:8080/"
        },
        "outputId": "8f8bed6a-0625-4eb7-be11-b5d5522bf9f9"
      },
      "execution_count": 9,
      "outputs": [
        {
          "output_type": "execute_result",
          "data": {
            "text/plain": [
              "79.0"
            ]
          },
          "metadata": {},
          "execution_count": 9
        }
      ]
    },
    {
      "cell_type": "code",
      "source": [
        "clf_svm.support_vectors_"
      ],
      "metadata": {
        "id": "0pub-zBYPmUd",
        "colab": {
          "base_uri": "https://localhost:8080/"
        },
        "outputId": "9211f750-bf48-4fd7-9f49-22449a24a923"
      },
      "execution_count": 10,
      "outputs": [
        {
          "output_type": "execute_result",
          "data": {
            "text/plain": [
              "array([[4.90e+01, 6.50e+04],\n",
              "       [3.10e+01, 8.90e+04],\n",
              "       [4.60e+01, 8.20e+04],\n",
              "       [3.80e+01, 1.12e+05],\n",
              "       [4.60e+01, 9.60e+04],\n",
              "       [2.80e+01, 8.90e+04],\n",
              "       [4.10e+01, 7.20e+04],\n",
              "       [3.30e+01, 6.90e+04],\n",
              "       [2.00e+01, 8.20e+04],\n",
              "       [3.10e+01, 7.40e+04],\n",
              "       [4.20e+01, 8.00e+04],\n",
              "       [3.50e+01, 7.20e+04],\n",
              "       [3.50e+01, 7.50e+04],\n",
              "       [3.60e+01, 7.50e+04],\n",
              "       [2.00e+01, 8.20e+04],\n",
              "       [4.20e+01, 6.50e+04],\n",
              "       [2.60e+01, 8.00e+04],\n",
              "       [2.10e+01, 6.80e+04],\n",
              "       [2.70e+01, 9.00e+04],\n",
              "       [2.50e+01, 8.70e+04],\n",
              "       [3.50e+01, 7.10e+04],\n",
              "       [2.60e+01, 8.60e+04],\n",
              "       [2.50e+01, 7.90e+04],\n",
              "       [3.30e+01, 1.13e+05],\n",
              "       [4.10e+01, 8.00e+04],\n",
              "       [3.10e+01, 7.10e+04],\n",
              "       [4.00e+01, 7.80e+04],\n",
              "       [4.60e+01, 7.40e+04],\n",
              "       [2.30e+01, 8.20e+04],\n",
              "       [4.20e+01, 6.50e+04],\n",
              "       [2.80e+01, 8.40e+04],\n",
              "       [2.60e+01, 8.40e+04],\n",
              "       [3.70e+01, 7.10e+04],\n",
              "       [3.80e+01, 6.50e+04],\n",
              "       [4.80e+01, 1.41e+05],\n",
              "       [4.00e+01, 7.20e+04],\n",
              "       [2.50e+01, 9.00e+04],\n",
              "       [3.50e+01, 8.80e+04],\n",
              "       [3.50e+01, 7.20e+04],\n",
              "       [3.90e+01, 7.10e+04],\n",
              "       [2.00e+01, 7.40e+04],\n",
              "       [2.90e+01, 7.50e+04],\n",
              "       [3.10e+01, 7.60e+04],\n",
              "       [3.80e+01, 8.00e+04],\n",
              "       [4.20e+01, 7.50e+04],\n",
              "       [3.70e+01, 8.00e+04],\n",
              "       [5.10e+01, 1.34e+05],\n",
              "       [3.80e+01, 7.10e+04],\n",
              "       [3.00e+01, 8.00e+04],\n",
              "       [4.50e+01, 7.90e+04],\n",
              "       [4.00e+01, 7.50e+04],\n",
              "       [4.30e+01, 1.33e+05],\n",
              "       [2.30e+01, 6.60e+04],\n",
              "       [4.90e+01, 7.40e+04],\n",
              "       [3.50e+01, 7.30e+04],\n",
              "       [3.90e+01, 7.10e+04],\n",
              "       [4.10e+01, 7.20e+04],\n",
              "       [2.90e+01, 8.30e+04],\n",
              "       [3.70e+01, 7.50e+04],\n",
              "       [3.10e+01, 6.80e+04],\n",
              "       [5.20e+01, 1.14e+05],\n",
              "       [3.00e+01, 8.90e+04],\n",
              "       [4.10e+01, 7.20e+04],\n",
              "       [4.10e+01, 7.10e+04],\n",
              "       [3.70e+01, 7.20e+04],\n",
              "       [3.00e+01, 1.16e+05],\n",
              "       [3.70e+01, 7.40e+04],\n",
              "       [2.80e+01, 7.90e+04],\n",
              "       [3.50e+01, 1.08e+05],\n",
              "       [2.10e+01, 7.20e+04],\n",
              "       [3.80e+01, 7.10e+04],\n",
              "       [2.60e+01, 7.20e+04],\n",
              "       [4.10e+01, 7.20e+04],\n",
              "       [3.10e+01, 6.60e+04],\n",
              "       [3.90e+01, 7.30e+04],\n",
              "       [4.10e+01, 7.90e+04],\n",
              "       [4.00e+01, 6.50e+04],\n",
              "       [1.80e+01, 8.60e+04],\n",
              "       [3.50e+01, 7.90e+04],\n",
              "       [3.40e+01, 7.20e+04],\n",
              "       [1.90e+01, 7.00e+04],\n",
              "       [3.90e+01, 7.90e+04],\n",
              "       [2.60e+01, 8.10e+04],\n",
              "       [2.50e+01, 8.00e+04],\n",
              "       [2.80e+01, 8.50e+04],\n",
              "       [2.60e+01, 1.18e+05],\n",
              "       [3.20e+01, 1.20e+05],\n",
              "       [5.20e+01, 2.10e+04],\n",
              "       [5.30e+01, 1.04e+05],\n",
              "       [4.20e+01, 7.30e+04],\n",
              "       [4.70e+01, 4.90e+04],\n",
              "       [5.90e+01, 2.90e+04],\n",
              "       [4.70e+01, 5.10e+04],\n",
              "       [6.00e+01, 1.02e+05],\n",
              "       [4.00e+01, 1.07e+05],\n",
              "       [4.80e+01, 4.10e+04],\n",
              "       [3.80e+01, 1.13e+05],\n",
              "       [6.00e+01, 4.20e+04],\n",
              "       [3.90e+01, 9.60e+04],\n",
              "       [4.50e+01, 2.60e+04],\n",
              "       [4.00e+01, 7.10e+04],\n",
              "       [4.60e+01, 7.90e+04],\n",
              "       [3.70e+01, 7.80e+04],\n",
              "       [6.00e+01, 1.08e+05],\n",
              "       [5.70e+01, 7.40e+04],\n",
              "       [4.60e+01, 1.17e+05],\n",
              "       [4.10e+01, 8.70e+04],\n",
              "       [2.80e+01, 1.23e+05],\n",
              "       [3.10e+01, 1.18e+05],\n",
              "       [3.70e+01, 7.00e+04],\n",
              "       [4.70e+01, 2.30e+04],\n",
              "       [5.10e+01, 2.30e+04],\n",
              "       [3.00e+01, 1.07e+05],\n",
              "       [4.80e+01, 3.30e+04],\n",
              "       [4.80e+01, 9.60e+04],\n",
              "       [5.90e+01, 7.60e+04],\n",
              "       [3.60e+01, 1.18e+05],\n",
              "       [4.20e+01, 9.00e+04],\n",
              "       [4.70e+01, 3.00e+04],\n",
              "       [3.50e+01, 9.10e+04],\n",
              "       [5.70e+01, 2.60e+04],\n",
              "       [5.20e+01, 3.80e+04],\n",
              "       [4.70e+01, 1.13e+05],\n",
              "       [5.80e+01, 1.01e+05],\n",
              "       [4.50e+01, 4.50e+04],\n",
              "       [4.60e+01, 2.30e+04],\n",
              "       [4.80e+01, 3.50e+04],\n",
              "       [4.90e+01, 2.80e+04],\n",
              "       [4.60e+01, 2.80e+04],\n",
              "       [3.50e+01, 9.70e+04],\n",
              "       [4.60e+01, 8.80e+04],\n",
              "       [5.60e+01, 6.00e+04],\n",
              "       [4.70e+01, 3.40e+04],\n",
              "       [3.20e+01, 1.00e+05],\n",
              "       [5.00e+01, 2.00e+04],\n",
              "       [4.60e+01, 3.20e+04],\n",
              "       [4.70e+01, 2.50e+04],\n",
              "       [3.40e+01, 1.12e+05],\n",
              "       [3.90e+01, 7.50e+04],\n",
              "       [3.60e+01, 1.25e+05],\n",
              "       [4.80e+01, 2.90e+04],\n",
              "       [4.80e+01, 7.40e+04],\n",
              "       [5.80e+01, 2.30e+04],\n",
              "       [5.30e+01, 7.20e+04],\n",
              "       [3.20e+01, 1.17e+05],\n",
              "       [5.40e+01, 7.00e+04],\n",
              "       [5.80e+01, 9.50e+04],\n",
              "       [5.40e+01, 1.04e+05],\n",
              "       [4.80e+01, 1.19e+05],\n",
              "       [4.50e+01, 2.20e+04],\n",
              "       [3.90e+01, 1.22e+05],\n",
              "       [5.40e+01, 2.60e+04],\n",
              "       [5.00e+01, 3.60e+04],\n",
              "       [5.50e+01, 1.25e+05],\n",
              "       [5.80e+01, 4.70e+04],\n",
              "       [4.90e+01, 8.90e+04],\n",
              "       [5.30e+01, 8.20e+04],\n",
              "       [6.00e+01, 3.40e+04],\n",
              "       [3.90e+01, 1.06e+05],\n",
              "       [5.40e+01, 1.08e+05],\n",
              "       [4.70e+01, 5.00e+04],\n",
              "       [3.70e+01, 9.30e+04],\n",
              "       [6.00e+01, 4.60e+04],\n",
              "       [5.60e+01, 1.04e+05],\n",
              "       [4.20e+01, 1.08e+05],\n",
              "       [4.70e+01, 2.00e+04],\n",
              "       [5.70e+01, 3.30e+04],\n",
              "       [4.90e+01, 3.90e+04],\n",
              "       [5.50e+01, 3.90e+04],\n",
              "       [5.00e+01, 8.80e+04],\n",
              "       [4.90e+01, 8.80e+04],\n",
              "       [4.80e+01, 3.00e+04]])"
            ]
          },
          "metadata": {},
          "execution_count": 10
        }
      ]
    },
    {
      "cell_type": "code",
      "source": [
        "# Making the Confusion Matrix \n",
        "from sklearn import metrics\n",
        "print(metrics.confusion_matrix(y_test, y_pred, labels=[0, 1]))"
      ],
      "metadata": {
        "id": "ZkYZZ7fMQatY",
        "colab": {
          "base_uri": "https://localhost:8080/"
        },
        "outputId": "b29f1aae-417f-49a0-93d3-d89ce5c44c14"
      },
      "execution_count": 11,
      "outputs": [
        {
          "output_type": "stream",
          "name": "stdout",
          "text": [
            "[[66  2]\n",
            " [19 13]]\n"
          ]
        }
      ]
    },
    {
      "cell_type": "code",
      "source": [
        "print(\"=\"*60)\n",
        "print(metrics.classification_report(y_test, y_pred, labels=[0, 1]))"
      ],
      "metadata": {
        "id": "P5BPiRJIPoB9",
        "colab": {
          "base_uri": "https://localhost:8080/"
        },
        "outputId": "f655b885-8ec1-4baa-f906-cab09c995003"
      },
      "execution_count": 12,
      "outputs": [
        {
          "output_type": "stream",
          "name": "stdout",
          "text": [
            "============================================================\n",
            "              precision    recall  f1-score   support\n",
            "\n",
            "           0       0.78      0.97      0.86        68\n",
            "           1       0.87      0.41      0.55        32\n",
            "\n",
            "    accuracy                           0.79       100\n",
            "   macro avg       0.82      0.69      0.71       100\n",
            "weighted avg       0.81      0.79      0.76       100\n",
            "\n"
          ]
        }
      ]
    },
    {
      "cell_type": "markdown",
      "source": [
        "# Conclusion:\n",
        "SVM  support-vector machines are supervised learning models with associated learning algorithms that analyze data for classification and regression analysis.The goal of the SVM algorithm is to create the best line or decision boundary that can segregate n-dimensional space into classes so that we can easily put the new data point in the correct category in the future. This best decision boundary is called a hyperplane.\n",
        "while performing this experiment,I found that accurracy is 79%.On trying all the kernel methods, I found 'poly' as best kernel.\n",
        "66 are True Positive, 13 are False Negative. 2 are False Positive whereas 16 are True Negative. "
      ],
      "metadata": {
        "id": "kFK4YuBERGWC"
      }
    }
  ]
}